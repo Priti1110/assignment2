{
 "cells": [
  {
   "cell_type": "code",
   "execution_count": null,
   "id": "5e67b31d-b2e8-443e-843a-d027187fba82",
   "metadata": {},
   "outputs": [],
   "source": [
    "#Q.1 How do you comment code in python ? what are the different types of comments ?\n",
    "#ANS: Comments in python are the lines in the code that are ignored by the interpreter \n",
    "     # during the execution of the program. \n",
    "     #  There are  three type of comments in python \n",
    "      #2)Multiline comments\n",
    "     # 3)Docstring comments"
   ]
  },
  {
   "cell_type": "code",
   "execution_count": null,
   "id": "74be3a99-1d5d-445a-9688-34d91a5750b3",
   "metadata": {},
   "outputs": [],
   "source": [
    "#Q.2 What are variable in python?How do you declare and assign value to variables ?\n",
    "# Ans: A python variable is asymbolic name that is reference or pointer to an object .\n",
    "        #1) list 2) tuble 3) str 4) Dictionary\n",
    "#       use type() to define the variable \n",
    "        "
   ]
  },
  {
   "cell_type": "code",
   "execution_count": 3,
   "id": "9c82a703-a3e1-406e-86b4-70e1c6c26d55",
   "metadata": {},
   "outputs": [],
   "source": [
    " #Q.3 How do you convert one data type in python ?\n",
    "    # ANS:  use to type() and convert data type to another data type \n",
    "   #eg: "
   ]
  },
  {
   "cell_type": "code",
   "execution_count": 6,
   "id": "46902f05-4dde-43e4-b5d2-1aa8c1fc4135",
   "metadata": {},
   "outputs": [
    {
     "data": {
      "text/plain": [
       "int"
      ]
     },
     "execution_count": 6,
     "metadata": {},
     "output_type": "execute_result"
    }
   ],
   "source": [
    "a=12\n",
    "type(a)"
   ]
  },
  {
   "cell_type": "code",
   "execution_count": 5,
   "id": "07d4ae4a-d58b-429c-8b59-b32f47ffdc8e",
   "metadata": {},
   "outputs": [
    {
     "data": {
      "text/plain": [
       "str"
      ]
     },
     "execution_count": 5,
     "metadata": {},
     "output_type": "execute_result"
    }
   ],
   "source": [
    "b=\"priya\"\n",
    "type(b)\n"
   ]
  },
  {
   "cell_type": "code",
   "execution_count": 7,
   "id": "eae2443c-fbe2-463e-9853-13e074e8540f",
   "metadata": {},
   "outputs": [
    {
     "data": {
      "text/plain": [
       "float"
      ]
     },
     "execution_count": 7,
     "metadata": {},
     "output_type": "execute_result"
    }
   ],
   "source": [
    "c=3.4\n",
    "type(c)"
   ]
  },
  {
   "cell_type": "code",
   "execution_count": 8,
   "id": "071d57e0-efa1-490d-9919-d7639e166e29",
   "metadata": {},
   "outputs": [],
   "source": [
    "#Q.4 How do you write and execute a python script from python to command line ?\n",
    "# ANS: To run python  scripts with commend ,you need to you open a commend line and type \n",
    "#       in the word python ,or python 3 if you have both version ,followed by path to you script,\n",
    "#         then press the enter and get output.\n",
    "  "
   ]
  },
  {
   "cell_type": "code",
   "execution_count": 9,
   "id": "ab141595-4359-4903-89c3-6978e645dad6",
   "metadata": {},
   "outputs": [],
   "source": [
    "#Q.5  Give a my_list =[1,2,3,4], write the code to silce the list and obtain the sub_list\n",
    " #         [2,3]"
   ]
  },
  {
   "cell_type": "code",
   "execution_count": 2,
   "id": "deaf2a84-cf32-47c6-81bd-0fdc38f3f82a",
   "metadata": {},
   "outputs": [
    {
     "data": {
      "text/plain": [
       "[2, 3]"
      ]
     },
     "execution_count": 2,
     "metadata": {},
     "output_type": "execute_result"
    }
   ],
   "source": [
    "my_list=[1,2,3,4,5]\n",
    "my_list[1:3]"
   ]
  },
  {
   "cell_type": "code",
   "execution_count": null,
   "id": "0477ba03-9f46-43aa-ad4c-7bc6c87b3dc1",
   "metadata": {},
   "outputs": [],
   "source": [
    "#Q.6 What is a complex number in mathematics ,and how is represented in python ?\n",
    "#Ans :  complex number is combination of real and imagery number which is reprsented by 4+5i\n",
    "#          where 4 is real part and 5i is imagery part  but python is follow seme but it use j\n",
    "#eg        4+5j where 4 is real part and 5j is imagery part:\n",
    "\n",
    "       "
   ]
  },
  {
   "cell_type": "code",
   "execution_count": 3,
   "id": "2e4f6b95-7559-4b93-aae4-5b54b61d5254",
   "metadata": {},
   "outputs": [
    {
     "data": {
      "text/plain": [
       "complex"
      ]
     },
     "execution_count": 3,
     "metadata": {},
     "output_type": "execute_result"
    }
   ],
   "source": [
    "a=4+5j\n",
    "type(a)"
   ]
  },
  {
   "cell_type": "code",
   "execution_count": 4,
   "id": "9a751e39-f190-4020-8b86-870b8b0d0d6a",
   "metadata": {},
   "outputs": [],
   "source": [
    "#Q.7 what is the correct way to declear a variable  named age assign the value 25 to it?"
   ]
  },
  {
   "cell_type": "code",
   "execution_count": 5,
   "id": "84cfc236-1273-46a7-bab5-7a7713b1f0e3",
   "metadata": {},
   "outputs": [
    {
     "name": "stdout",
     "output_type": "stream",
     "text": [
      "priya\n"
     ]
    }
   ],
   "source": [
    "#ans\n",
    "name='priya'\n",
    "print(name)"
   ]
  },
  {
   "cell_type": "code",
   "execution_count": 7,
   "id": "fd1641e7-5475-4449-9b28-7f70a6135bd3",
   "metadata": {},
   "outputs": [
    {
     "name": "stdout",
     "output_type": "stream",
     "text": [
      "25\n"
     ]
    }
   ],
   "source": [
    "age=25\n",
    "print(age)"
   ]
  },
  {
   "cell_type": "code",
   "execution_count": 10,
   "id": "bf5d73e1-608d-4193-a5b2-d0d8c0b551f2",
   "metadata": {},
   "outputs": [],
   "source": [
    "#Q.8 Declear a variable named price and assign the value 9.99 to it what data type does this variable\n",
    "#       belong to?\n",
    " "
   ]
  },
  {
   "cell_type": "code",
   "execution_count": 11,
   "id": "82bacb2d-18ff-4768-9691-73311b973a00",
   "metadata": {},
   "outputs": [
    {
     "data": {
      "text/plain": [
       "float"
      ]
     },
     "execution_count": 11,
     "metadata": {},
     "output_type": "execute_result"
    }
   ],
   "source": [
    "A=9.99\n",
    "type(A)"
   ]
  },
  {
   "cell_type": "code",
   "execution_count": null,
   "id": "48d8d186-8ba2-4961-8dc4-35927e128d3e",
   "metadata": {},
   "outputs": [],
   "source": [
    "#Q.9 Create a variable named name and assign your full name to it string .How would you print value of this \n",
    "#     variable?"
   ]
  },
  {
   "cell_type": "code",
   "execution_count": 15,
   "id": "f81a5a1e-f9af-4ead-8811-4d288d500916",
   "metadata": {},
   "outputs": [
    {
     "data": {
      "text/plain": [
       "str"
      ]
     },
     "execution_count": 15,
     "metadata": {},
     "output_type": "execute_result"
    }
   ],
   "source": [
    "name='Priti priya sahu'\n",
    "type(name)\n"
   ]
  },
  {
   "cell_type": "code",
   "execution_count": 14,
   "id": "80b00ca3-7daa-47dc-8b86-5b940e892633",
   "metadata": {},
   "outputs": [
    {
     "data": {
      "text/plain": [
       "'Priti priya sahu'"
      ]
     },
     "execution_count": 14,
     "metadata": {},
     "output_type": "execute_result"
    }
   ],
   "source": [
    "name"
   ]
  },
  {
   "cell_type": "code",
   "execution_count": 22,
   "id": "42117c1b-7ed2-4598-a798-9a323f5d1124",
   "metadata": {},
   "outputs": [
    {
     "data": {
      "text/plain": [
       "['Priti priya sahu']"
      ]
     },
     "execution_count": 22,
     "metadata": {},
     "output_type": "execute_result"
    }
   ],
   "source": [
    "[name[0:16:1]]"
   ]
  },
  {
   "cell_type": "code",
   "execution_count": 23,
   "id": "6356f216-d589-45e6-8aab-a1ffa90c81fd",
   "metadata": {},
   "outputs": [],
   "source": [
    "#Q.10 Give the string \"Hello world \",extract the substring \"world\". "
   ]
  },
  {
   "cell_type": "code",
   "execution_count": 27,
   "id": "139494f6-8fd7-4329-b6c5-04c183b589c6",
   "metadata": {},
   "outputs": [
    {
     "name": "stdout",
     "output_type": "stream",
     "text": [
      "Hello world\n"
     ]
    }
   ],
   "source": [
    "a=\"Hello world\"\n",
    "print(a)"
   ]
  },
  {
   "cell_type": "code",
   "execution_count": 29,
   "id": "ac8c7ffe-78a8-44ca-a77e-0a4979c57aaf",
   "metadata": {},
   "outputs": [
    {
     "data": {
      "text/plain": [
       "str"
      ]
     },
     "execution_count": 29,
     "metadata": {},
     "output_type": "execute_result"
    }
   ],
   "source": [
    "type(a)"
   ]
  },
  {
   "cell_type": "code",
   "execution_count": 32,
   "id": "dfbd4914-a533-49b5-b309-240875e3b7fc",
   "metadata": {},
   "outputs": [
    {
     "data": {
      "text/plain": [
       "'world'"
      ]
     },
     "execution_count": 32,
     "metadata": {},
     "output_type": "execute_result"
    }
   ],
   "source": [
    "a[6:12]"
   ]
  },
  {
   "cell_type": "code",
   "execution_count": 33,
   "id": "af63f631-c386-42f3-bd58-6aa2d249135c",
   "metadata": {},
   "outputs": [],
   "source": [
    "#Q.11 Create a variable is_student and assign it a boolean value indicating wwhether you are currently \n",
    "#      a student or not ?"
   ]
  },
  {
   "cell_type": "code",
   "execution_count": 37,
   "id": "7755aa44-47d4-4722-8543-072813d955be",
   "metadata": {},
   "outputs": [
    {
     "data": {
      "text/plain": [
       "bool"
      ]
     },
     "execution_count": 37,
     "metadata": {},
     "output_type": "execute_result"
    }
   ],
   "source": [
    "is_student = True\n",
    "type(is_student)"
   ]
  },
  {
   "cell_type": "code",
   "execution_count": null,
   "id": "6ede71cd-db7b-420a-a6a7-a1a9c029f4a4",
   "metadata": {},
   "outputs": [],
   "source": []
  },
  {
   "cell_type": "code",
   "execution_count": null,
   "id": "aac6747e-90ea-4c65-b253-f6e24d2c1084",
   "metadata": {},
   "outputs": [],
   "source": []
  }
 ],
 "metadata": {
  "kernelspec": {
   "display_name": "Python 3 (ipykernel)",
   "language": "python",
   "name": "python3"
  },
  "language_info": {
   "codemirror_mode": {
    "name": "ipython",
    "version": 3
   },
   "file_extension": ".py",
   "mimetype": "text/x-python",
   "name": "python",
   "nbconvert_exporter": "python",
   "pygments_lexer": "ipython3",
   "version": "3.10.8"
  }
 },
 "nbformat": 4,
 "nbformat_minor": 5
}
